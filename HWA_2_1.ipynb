{
 "cells": [
  {
   "cell_type": "code",
   "execution_count": 68,
   "metadata": {},
   "outputs": [],
   "source": [
    "import pandas as pd\n",
    "import numpy as np\n",
    "import matplotlib.pyplot as plt\n",
    "\n",
    "import sklearn as sklearn\n",
    "from sklearn import linear_model\n",
    "from sklearn import preprocessing\n",
    "from sklearn import datasets\n",
    "from sklearn import metrics\n",
    "from sklearn import model_selection\n",
    "from sklearn.utils import shuffle\n",
    "from sklearn.preprocessing import MinMaxScaler\n",
    "from sklearn import svm\n",
    "from sklearn.neural_network import MLPClassifier"
   ]
  },
  {
   "cell_type": "code",
   "execution_count": 69,
   "metadata": {},
   "outputs": [
    {
     "name": "stderr",
     "output_type": "stream",
     "text": [
      "<ipython-input-69-5475b2b539f0>:2: ParserWarning: Falling back to the 'python' engine because the 'c' engine does not support regex separators (separators > 1 char and different from '\\s+' are interpreted as regex); you can avoid this warning by specifying engine='python'.\n",
      "  users = pd.read_csv('ml-1m/users.dat', sep='::',\n",
      "<ipython-input-69-5475b2b539f0>:5: ParserWarning: Falling back to the 'python' engine because the 'c' engine does not support regex separators (separators > 1 char and different from '\\s+' are interpreted as regex); you can avoid this warning by specifying engine='python'.\n",
      "  ratings = pd.read_csv('ml-1m/ratings.dat', sep='::',\n",
      "<ipython-input-69-5475b2b539f0>:8: ParserWarning: Falling back to the 'python' engine because the 'c' engine does not support regex separators (separators > 1 char and different from '\\s+' are interpreted as regex); you can avoid this warning by specifying engine='python'.\n",
      "  movies = pd.read_csv('ml-1m/movies.dat', sep='::',\n"
     ]
    }
   ],
   "source": [
    "# Loading data\n",
    "users = pd.read_csv('ml-1m/users.dat', sep='::',\n",
    "                    names=['user_id', 'gender', 'age_group', 'occupation', 'zip'])\n",
    "\n",
    "ratings = pd.read_csv('ml-1m/ratings.dat', sep='::',\n",
    "                    names=['user_id', 'movie_id', 'rating', 'timestamp'])\n",
    "\n",
    "movies = pd.read_csv('ml-1m/movies.dat', sep='::',\n",
    "                    names=['movie_id', 'title', 'genere'])\n",
    "\n",
    "## Merging dataframes\n",
    "ratings_users = pd.merge(ratings, users, on='user_id')\n",
    "ratings_users_movies = pd.merge(ratings_users, movies, on='movie_id')\n",
    "\n",
    "## Ratings per user\n",
    "ratings_per_user = ratings_users_movies.groupby(['user_id']).size().reset_index(name='no_reviews')\n",
    "ratings_per_user_over_200 = ratings_per_user.copy()\n",
    "ratings_per_user_over_200 = ratings_per_user_over_200[ratings_per_user_over_200['no_reviews'] > 200]"
   ]
  },
  {
   "cell_type": "code",
   "execution_count": 70,
   "metadata": {},
   "outputs": [],
   "source": [
    "## Filtering main df\n",
    "ratings_users_movies_filtered = ratings_users_movies.copy()\n",
    "ratings_users_movies_filtered = ratings_users_movies_filtered[ratings_users_movies_filtered['user_id'].isin(ratings_per_user_over_200['user_id'])]\n",
    "ratings_users_movies_filtered = ratings_users_movies_filtered.sort_values(by = 'user_id')\n",
    "ratings_users_movies_filtered = ratings_users_movies_filtered.replace({'rating': {1: 0, 2: 0, 3: 0, 4: 1, 5: 1}})\n",
    "ratings_users_movies_filtered = ratings_users_movies_filtered.replace({'age_group': {1: 9}})\n",
    "ratings_users_movies_filtered = ratings_users_movies_filtered.drop(['timestamp', 'zip', 'movie_id'], axis = 1)"
   ]
  },
  {
   "cell_type": "code",
   "execution_count": 71,
   "metadata": {},
   "outputs": [],
   "source": [
    "## gender dummy variable - females\n",
    "conditionsF = [\n",
    "    (ratings_users_movies_filtered['gender'] == 'F'),\n",
    "    (ratings_users_movies_filtered['gender'] != 'F')\n",
    "   ]\n",
    "\n",
    "valuesF = [1, 0]\n",
    "\n",
    "ratings_users_movies_filtered['female'] = np.select(conditionsF, valuesF)\n",
    "\n",
    "## gender dummy variable - males\n",
    "conditionsM = [\n",
    "    (ratings_users_movies_filtered['gender'] == 'M'),\n",
    "    (ratings_users_movies_filtered['gender'] != 'M')\n",
    "   ]\n",
    "\n",
    "valuesM = [1, 0]\n",
    "\n",
    "ratings_users_movies_filtered['male'] = np.select(conditionsM, valuesM)"
   ]
  },
  {
   "cell_type": "code",
   "execution_count": 72,
   "metadata": {},
   "outputs": [],
   "source": [
    "## Generating ocupation dummies\n",
    "\n",
    "for i in list(range(0,21)):\n",
    "\n",
    "    #print(i)\n",
    "\n",
    "    conditionsProf = [\n",
    "    (ratings_users_movies_filtered['occupation'] == i),\n",
    "    (ratings_users_movies_filtered['occupation'] != i)\n",
    "   ]\n",
    "\n",
    "    valuesProf = [1, 0]\n",
    "    col_name = str('occupation_' + str(i))\n",
    "\n",
    "    ratings_users_movies_filtered[col_name] = np.select(conditionsProf, valuesProf)"
   ]
  },
  {
   "cell_type": "code",
   "execution_count": 73,
   "metadata": {},
   "outputs": [
    {
     "name": "stdout",
     "output_type": "stream",
     "text": [
      "Generating dummy variables for genere: \n",
      "Action\n",
      "Generating dummy variables for genere: \n",
      "Adventure\n",
      "Generating dummy variables for genere: \n",
      "Animation\n",
      "Generating dummy variables for genere: \n",
      "Children's\n",
      "Generating dummy variables for genere: \n",
      "Comedy\n",
      "Generating dummy variables for genere: \n",
      "Crime\n",
      "Generating dummy variables for genere: \n",
      "Documentary\n",
      "Generating dummy variables for genere: \n",
      "Drama\n",
      "Generating dummy variables for genere: \n",
      "Fantasy\n",
      "Generating dummy variables for genere: \n",
      "Film-Noir\n",
      "Generating dummy variables for genere: \n",
      "Horror\n",
      "Generating dummy variables for genere: \n",
      "Musical\n",
      "Generating dummy variables for genere: \n",
      "Mystery\n",
      "Generating dummy variables for genere: \n",
      "Romance\n",
      "Generating dummy variables for genere: \n",
      "Sci-Fi\n",
      "Generating dummy variables for genere: \n",
      "Thriller\n",
      "Generating dummy variables for genere: \n",
      "War\n"
     ]
    }
   ],
   "source": [
    "## Generating genere dummies\n",
    "for i in ['Action', 'Adventure', 'Animation', 'Children\\'s', 'Comedy', 'Crime', 'Documentary',\n",
    "          'Drama', 'Fantasy','Film-Noir','Horror','Musical','Mystery',\n",
    "          'Romance','Sci-Fi', 'Thriller','War',]:\n",
    "\n",
    "    print(\"Generating dummy variables for genere: \")\n",
    "    print(i)\n",
    "    col_name = str('genere_' + str(i))\n",
    "    col_name = col_name.replace(\"'\",\"\")\n",
    "    col_name = col_name.replace(\"-\",\"\")\n",
    "\n",
    "\n",
    "\n",
    "    ratings_users_movies_filtered[col_name] = ratings_users_movies_filtered.apply(lambda df: i in df.genere.split(\"|\"), axis=1)\n",
    "    ratings_users_movies_filtered = ratings_users_movies_filtered.replace({col_name: {True: 1, False: 0}})\n"
   ]
  },
  {
   "cell_type": "code",
   "execution_count": 74,
   "metadata": {},
   "outputs": [],
   "source": [
    "training_data = ratings_users_movies_filtered.copy()\n",
    "test_data = ratings_users_movies_filtered.copy()\n",
    "\n",
    "training_data = training_data[training_data['user_id'] > 1000]\n",
    "test_data = test_data[test_data['user_id'] <= 1000]\n",
    "\n",
    "\n",
    "data_cols_input = ['age_group','female','male',\n",
    "                   'occupation_0',\n",
    "                   'occupation_1',\n",
    "                   'occupation_2',\n",
    "                   'occupation_3',\n",
    "                   'occupation_4',\n",
    "                   'occupation_5',\n",
    "                   'occupation_6',\n",
    "                   'occupation_7',\n",
    "                   'occupation_8',\n",
    "                   'occupation_9',\n",
    "                   'occupation_10',\n",
    "                   'occupation_11',\n",
    "                   'occupation_12',\n",
    "                   'occupation_13',\n",
    "                   'occupation_14',\n",
    "                   'occupation_15',\n",
    "                   'occupation_16',\n",
    "                   'occupation_17',\n",
    "                   'occupation_18',\n",
    "                   'occupation_19',\n",
    "                   'occupation_20',\n",
    "                   'genere_Action',\n",
    "                   'genere_Adventure',\n",
    "                   'genere_Animation',\n",
    "                   'genere_Childrens',\n",
    "                   'genere_Comedy',\n",
    "                   'genere_Crime',\n",
    "                   'genere_Documentary',\n",
    "                   'genere_Drama',\n",
    "                   'genere_Fantasy',\n",
    "                   'genere_FilmNoir',\n",
    "                   'genere_Horror',\n",
    "                   'genere_Musical',\n",
    "                   'genere_Mystery',\n",
    "                   'genere_Romance',\n",
    "                   'genere_SciFi',\n",
    "                   'genere_Thriller',\n",
    "                   'genere_War'\n",
    "                   ]\n",
    "y_train = training_data.copy()\n",
    "y_train = y_train['rating']\n",
    "X_train = training_data.copy()\n",
    "X_train = X_train[data_cols_input]\n",
    "\n",
    "\n",
    "y_test = test_data.copy()\n",
    "y_test = y_test['rating']\n",
    "X_test = test_data.copy()\n",
    "X_test = X_test[data_cols_input]\n",
    "\n",
    "\n",
    "y_train = y_train.to_numpy()\n",
    "y_test = y_test.to_numpy()\n",
    "\n",
    "X_train = X_train.to_numpy()\n",
    "X_test = X_test.to_numpy()"
   ]
  },
  {
   "cell_type": "code",
   "execution_count": 75,
   "metadata": {
    "scrolled": true
   },
   "outputs": [
    {
     "name": "stdout",
     "output_type": "stream",
     "text": [
      "Samples and features in training data: \n",
      "(559188, 41)\n",
      "Samples in training data: \n",
      "(559188,)\n",
      "Samples and features in test data: \n",
      "(95593, 41)\n",
      "Samples in test data: \n",
      "(95593,)\n",
      "// -- //\n",
      "Best constant prediction for test dataset is: \n",
      "0.5356249934618643\n",
      "// -- //\n",
      "Best constant prediction for train dataset is: \n",
      "0.5422863151569777\n",
      "// -- //\n"
     ]
    }
   ],
   "source": [
    "## Part 2\n",
    "scaler = MinMaxScaler()\n",
    "scaler.fit(X_train)\n",
    "\n",
    "X_train = scaler.transform(X_train)\n",
    "X_test = scaler.transform(X_test)\n",
    "\n",
    "print(\"Samples and features in training data: \")\n",
    "print(X_train.shape)\n",
    "print(\"Samples in training data: \")\n",
    "print(y_train.shape)\n",
    "\n",
    "print(\"Samples and features in test data: \")\n",
    "print(X_test.shape)\n",
    "print(\"Samples in test data: \")\n",
    "print(y_test.shape)\n",
    "print(\"// -- //\")\n",
    "\n",
    "\n",
    "print(\"Best constant prediction for test dataset is: \")\n",
    "print(np.sum(y_test) / (y_test.shape[0]))\n",
    "print(\"// -- //\")\n",
    "print(\"Best constant prediction for train dataset is: \")\n",
    "print(np.sum(y_train) / (y_train.shape[0]))\n",
    "print(\"// -- //\")"
   ]
  },
  {
   "cell_type": "code",
   "execution_count": 76,
   "metadata": {},
   "outputs": [
    {
     "name": "stdout",
     "output_type": "stream",
     "text": [
      "linearDefaultACS_train:  0.5751589805217565\n",
      "linearDefaultACS_test:  0.5603234546462607\n"
     ]
    }
   ],
   "source": [
    "# Performance with default parameters - linear kernel\n",
    "\n",
    "linearDefault = sklearn.svm.LinearSVC(C = 1)\n",
    "linearDefault.fit(X_train, y_train)\n",
    "\n",
    "linearDefaultYhat_train = linearDefault.predict(X_train)\n",
    "linearDefaultYhat_test = linearDefault.predict(X_test)\n",
    "\n",
    "linearDefaultACS_train = sklearn.metrics.accuracy_score(y_train, linearDefaultYhat_train)\n",
    "linearDefaultACS_test = sklearn.metrics.accuracy_score(y_test, linearDefaultYhat_test)\n",
    "\n",
    "print('linearDefaultACS_train: ', linearDefaultACS_train)\n",
    "print('linearDefaultACS_test: ', linearDefaultACS_test)\n"
   ]
  },
  {
   "cell_type": "code",
   "execution_count": null,
   "metadata": {},
   "outputs": [],
   "source": []
  },
  {
   "cell_type": "code",
   "execution_count": 77,
   "metadata": {
    "scrolled": true
   },
   "outputs": [
    {
     "name": "stdout",
     "output_type": "stream",
     "text": [
      "result for 1.0: \n",
      "0.5691735118811159\n",
      "=====\n"
     ]
    },
    {
     "name": "stderr",
     "output_type": "stream",
     "text": [
      "C:\\Users\\Mait\\anaconda3\\lib\\site-packages\\sklearn\\svm\\_base.py:976: ConvergenceWarning: Liblinear failed to converge, increase the number of iterations.\n",
      "  warnings.warn(\"Liblinear failed to converge, increase \"\n",
      "C:\\Users\\Mait\\anaconda3\\lib\\site-packages\\sklearn\\svm\\_base.py:976: ConvergenceWarning: Liblinear failed to converge, increase the number of iterations.\n",
      "  warnings.warn(\"Liblinear failed to converge, increase \"\n",
      "C:\\Users\\Mait\\anaconda3\\lib\\site-packages\\sklearn\\svm\\_base.py:976: ConvergenceWarning: Liblinear failed to converge, increase the number of iterations.\n",
      "  warnings.warn(\"Liblinear failed to converge, increase \"\n",
      "C:\\Users\\Mait\\anaconda3\\lib\\site-packages\\sklearn\\svm\\_base.py:976: ConvergenceWarning: Liblinear failed to converge, increase the number of iterations.\n",
      "  warnings.warn(\"Liblinear failed to converge, increase \"\n",
      "C:\\Users\\Mait\\anaconda3\\lib\\site-packages\\sklearn\\svm\\_base.py:976: ConvergenceWarning: Liblinear failed to converge, increase the number of iterations.\n",
      "  warnings.warn(\"Liblinear failed to converge, increase \"\n"
     ]
    },
    {
     "name": "stdout",
     "output_type": "stream",
     "text": [
      "result for 10.0: \n",
      "0.569101979475929\n",
      "=====\n"
     ]
    },
    {
     "name": "stderr",
     "output_type": "stream",
     "text": [
      "C:\\Users\\Mait\\anaconda3\\lib\\site-packages\\sklearn\\svm\\_base.py:976: ConvergenceWarning: Liblinear failed to converge, increase the number of iterations.\n",
      "  warnings.warn(\"Liblinear failed to converge, increase \"\n",
      "C:\\Users\\Mait\\anaconda3\\lib\\site-packages\\sklearn\\svm\\_base.py:976: ConvergenceWarning: Liblinear failed to converge, increase the number of iterations.\n",
      "  warnings.warn(\"Liblinear failed to converge, increase \"\n",
      "C:\\Users\\Mait\\anaconda3\\lib\\site-packages\\sklearn\\svm\\_base.py:976: ConvergenceWarning: Liblinear failed to converge, increase the number of iterations.\n",
      "  warnings.warn(\"Liblinear failed to converge, increase \"\n",
      "C:\\Users\\Mait\\anaconda3\\lib\\site-packages\\sklearn\\svm\\_base.py:976: ConvergenceWarning: Liblinear failed to converge, increase the number of iterations.\n",
      "  warnings.warn(\"Liblinear failed to converge, increase \"\n",
      "C:\\Users\\Mait\\anaconda3\\lib\\site-packages\\sklearn\\svm\\_base.py:976: ConvergenceWarning: Liblinear failed to converge, increase the number of iterations.\n",
      "  warnings.warn(\"Liblinear failed to converge, increase \"\n"
     ]
    },
    {
     "name": "stdout",
     "output_type": "stream",
     "text": [
      "result for 100.0: \n",
      "0.5470002839961705\n",
      "=====\n"
     ]
    },
    {
     "name": "stderr",
     "output_type": "stream",
     "text": [
      "C:\\Users\\Mait\\anaconda3\\lib\\site-packages\\sklearn\\svm\\_base.py:976: ConvergenceWarning: Liblinear failed to converge, increase the number of iterations.\n",
      "  warnings.warn(\"Liblinear failed to converge, increase \"\n",
      "C:\\Users\\Mait\\anaconda3\\lib\\site-packages\\sklearn\\svm\\_base.py:976: ConvergenceWarning: Liblinear failed to converge, increase the number of iterations.\n",
      "  warnings.warn(\"Liblinear failed to converge, increase \"\n",
      "C:\\Users\\Mait\\anaconda3\\lib\\site-packages\\sklearn\\svm\\_base.py:976: ConvergenceWarning: Liblinear failed to converge, increase the number of iterations.\n",
      "  warnings.warn(\"Liblinear failed to converge, increase \"\n",
      "C:\\Users\\Mait\\anaconda3\\lib\\site-packages\\sklearn\\svm\\_base.py:976: ConvergenceWarning: Liblinear failed to converge, increase the number of iterations.\n",
      "  warnings.warn(\"Liblinear failed to converge, increase \"\n",
      "C:\\Users\\Mait\\anaconda3\\lib\\site-packages\\sklearn\\svm\\_base.py:976: ConvergenceWarning: Liblinear failed to converge, increase the number of iterations.\n",
      "  warnings.warn(\"Liblinear failed to converge, increase \"\n"
     ]
    },
    {
     "name": "stdout",
     "output_type": "stream",
     "text": [
      "result for 1000.0: \n",
      "0.5266833728771991\n",
      "=====\n"
     ]
    },
    {
     "name": "stderr",
     "output_type": "stream",
     "text": [
      "C:\\Users\\Mait\\anaconda3\\lib\\site-packages\\sklearn\\svm\\_base.py:976: ConvergenceWarning: Liblinear failed to converge, increase the number of iterations.\n",
      "  warnings.warn(\"Liblinear failed to converge, increase \"\n",
      "C:\\Users\\Mait\\anaconda3\\lib\\site-packages\\sklearn\\svm\\_base.py:976: ConvergenceWarning: Liblinear failed to converge, increase the number of iterations.\n",
      "  warnings.warn(\"Liblinear failed to converge, increase \"\n",
      "C:\\Users\\Mait\\anaconda3\\lib\\site-packages\\sklearn\\svm\\_base.py:976: ConvergenceWarning: Liblinear failed to converge, increase the number of iterations.\n",
      "  warnings.warn(\"Liblinear failed to converge, increase \"\n",
      "C:\\Users\\Mait\\anaconda3\\lib\\site-packages\\sklearn\\svm\\_base.py:976: ConvergenceWarning: Liblinear failed to converge, increase the number of iterations.\n",
      "  warnings.warn(\"Liblinear failed to converge, increase \"\n",
      "C:\\Users\\Mait\\anaconda3\\lib\\site-packages\\sklearn\\svm\\_base.py:976: ConvergenceWarning: Liblinear failed to converge, increase the number of iterations.\n",
      "  warnings.warn(\"Liblinear failed to converge, increase \"\n"
     ]
    },
    {
     "name": "stdout",
     "output_type": "stream",
     "text": [
      "result for 10000.0: \n",
      "0.5344052125984167\n",
      "=====\n",
      "result for 1.0: \n",
      "0.5691735118811159\n",
      "=====\n",
      "Best set of hyperparameters is:  [1.0]\n",
      "Best model with CV selected hyperparameters is: \n",
      "linearCV_ACS_train:  0.5751589805217565\n",
      "linearCV_ACS_test:  0.5603234546462607\n"
     ]
    }
   ],
   "source": [
    "## Cross validation\n",
    "C = np.logspace(0, 4, 5)\n",
    "C = np.append(C, [1])\n",
    "\n",
    "combination = []\n",
    "cvResults = []\n",
    "\n",
    "\n",
    "\n",
    "for c in C: \n",
    "    model = sklearn.svm.LinearSVC(C = c)\n",
    "    try: \n",
    "        accuraccy = np.mean(model_selection.cross_val_score(model,\n",
    "                                                    X_train, \n",
    "                                                    y_train, \n",
    "                                                    cv=5,        \n",
    "                                                    scoring='accuracy'))\n",
    "\n",
    "        combination.append([c])\n",
    "        cvResults.append(accuraccy)\n",
    "        print(\"result for \" + str(c) + \": \")\n",
    "        print(accuraccy)\n",
    "        print(\"=====\")\n",
    "\n",
    "    except ValueError:\n",
    "\n",
    "        print(\"Combination [\", [c], \"] does not wokr!\")\n",
    "            \n",
    "            \n",
    "        \n",
    "\n",
    "indexBest = np.argmax(cvResults)\n",
    "print('Best set of hyperparameters is: ', combination[indexBest])\n",
    "\n",
    "\n",
    "\n",
    "## linear kernel best CV\n",
    "\n",
    "linearCV = sklearn.svm.LinearSVC(C = combination[indexBest][0])\n",
    "\n",
    "linearCV.fit(X_train, y_train)\n",
    "\n",
    "linearCVYhat_train = linearCV.predict(X_train)\n",
    "linearCVYhat_test = linearCV.predict(X_test)\n",
    "\n",
    "linearCVACS_train = sklearn.metrics.accuracy_score(y_train, linearCVYhat_train)\n",
    "linearCVACS_test = sklearn.metrics.accuracy_score(y_test, linearCVYhat_test)\n",
    "\n",
    "print('Best model with CV selected hyperparameters is: ')\n",
    "print('linearCV_ACS_train: ', linearCVACS_train)\n",
    "print('linearCV_ACS_test: ', linearCVACS_test)\n",
    "\n",
    "\n"
   ]
  },
  {
   "cell_type": "code",
   "execution_count": 78,
   "metadata": {},
   "outputs": [
    {
     "name": "stdout",
     "output_type": "stream",
     "text": [
      "[[1.0], [10.0], [100.0], [1000.0], [10000.0], [1.0]]\n",
      "[0.5691735118811159, 0.569101979475929, 0.5470002839961705, 0.5266833728771991, 0.5344052125984167, 0.5691735118811159]\n"
     ]
    }
   ],
   "source": [
    "print(combination)\n",
    "print(cvResults)"
   ]
  },
  {
   "cell_type": "code",
   "execution_count": 79,
   "metadata": {},
   "outputs": [
    {
     "data": {
      "text/plain": [
       "LinearSVC(C=1)"
      ]
     },
     "execution_count": 79,
     "metadata": {},
     "output_type": "execute_result"
    }
   ],
   "source": [
    "# Precision - recall curve for best linear SVM model\n",
    "linearBest = sklearn.svm.LinearSVC(C = 1)\n",
    "linearBest.fit(X_train, y_train)\n",
    "\n"
   ]
  },
  {
   "cell_type": "code",
   "execution_count": null,
   "metadata": {},
   "outputs": [],
   "source": []
  },
  {
   "cell_type": "code",
   "execution_count": 80,
   "metadata": {},
   "outputs": [
    {
     "data": {
      "text/plain": [
       "0.5760149801763728"
      ]
     },
     "execution_count": 80,
     "metadata": {},
     "output_type": "execute_result"
    }
   ],
   "source": [
    "# Performance with default parameters\n",
    "clf = MLPClassifier(random_state=1, max_iter=300).fit(X_train, y_train)\n",
    "clf.score(X_test, y_test)"
   ]
  },
  {
   "cell_type": "code",
   "execution_count": 86,
   "metadata": {},
   "outputs": [
    {
     "name": "stdout",
     "output_type": "stream",
     "text": [
      "MLP with default hyperparameters score on train dataset:  0.6155604197514968\n",
      "MLP with default hyperparameters score on test dataset:  0.5760149801763728\n",
      "Best set of hyperparameters is:  [10]\n",
      "Best model with CV selected hyperparameters is: \n",
      "MLP_ACS_train:  0.5969709650421683\n",
      "MLP_ACS_test:  0.5793311225717365\n"
     ]
    }
   ],
   "source": [
    "# Cross-validation to find best parameter value hidden layer size\n",
    "clf = MLPClassifier(random_state=1, max_iter=300).fit(X_train, y_train)\n",
    "\n",
    "MLP_default_test = clf.score(X_test, y_test)\n",
    "MLP_default_train = clf.score(X_train, y_train)\n",
    "\n",
    "\n",
    "print('MLP with default hyperparameters score on train dataset: ', MLP_default_train)\n",
    "print('MLP with default hyperparameters score on test dataset: ', MLP_default_test)\n",
    "\n",
    "\n",
    "\n",
    "## Cross validation\n",
    "C = [10, 50, 100, 150, 200, 250]\n",
    "\n",
    "\n",
    "\n",
    "combination = []\n",
    "cvResults = []\n",
    "\n",
    "\n",
    "\n",
    "for c in C: \n",
    "        model = MLPClassifier(random_state=1, max_iter=300, hidden_layer_sizes = c)\n",
    "        try: \n",
    "            accuraccy = np.mean(model_selection.cross_val_score(model,\n",
    "                                                    X_train, \n",
    "                                                    y_train, \n",
    "                                                    cv=5, \n",
    "                                                    scoring='accuracy'))\n",
    "\n",
    "            combination.append([c])\n",
    "            cvResults.append(accuraccy)\n",
    "\n",
    "        except ValueError:\n",
    "\n",
    "            print(\"Combination [\", [c], \"] does not work!\")\n",
    "            \n",
    "            \n",
    "        \n",
    "\n",
    "indexBest = np.argmax(cvResults)\n",
    "print('Best set of hyperparameters is: ', combination[indexBest])\n",
    "\n",
    "\n",
    "\n",
    "## MLP best CV\n",
    "\n",
    "#linearCV = sklearn.svm.LinearSVC(C = combination[indexBest][0])\n",
    "\n",
    "clf = MLPClassifier(random_state=1, max_iter=300, hidden_layer_sizes = combination[indexBest][0])\n",
    "clf.fit(X_train, y_train)\n",
    "\n",
    "\n",
    "MLP_Yhat_train = clf.predict(X_train)\n",
    "MLP_Yhat_test = clf.predict(X_test)\n",
    "\n",
    "MLP_ACS_train = sklearn.metrics.accuracy_score(y_train, MLP_Yhat_train)\n",
    "MLP_ACS_test = sklearn.metrics.accuracy_score(y_test, MLP_Yhat_test)\n",
    "\n",
    "print('Best model with CV selected hyperparameters is: ')\n",
    "print('MLP_ACS_train: ', MLP_ACS_train)\n",
    "print('MLP_ACS_test: ', MLP_ACS_test)"
   ]
  },
  {
   "cell_type": "code",
   "execution_count": 82,
   "metadata": {},
   "outputs": [
    {
     "data": {
      "text/plain": [
       "0.5969709650421683"
      ]
     },
     "execution_count": 82,
     "metadata": {},
     "output_type": "execute_result"
    }
   ],
   "source": [
    "# Performance with best parameters\n",
    "clfBest = MLPClassifier(random_state=1, max_iter=300, hidden_layer_sizes = 10).fit(X_train, y_train)\n",
    "\n",
    "clfBest.score(X_test, y_test)\n",
    "clfBest.score(X_train, y_train)"
   ]
  },
  {
   "cell_type": "code",
   "execution_count": null,
   "metadata": {},
   "outputs": [],
   "source": []
  },
  {
   "cell_type": "code",
   "execution_count": 83,
   "metadata": {},
   "outputs": [],
   "source": [
    "# precision-recall curves for SVM\n",
    "\n",
    "# Helper function\n",
    "def precisionRecallComp(y_true, y_hat):\n",
    "        \n",
    "    trueP = 0\n",
    "    falseP = 0\n",
    "    falseN = 0\n",
    "\n",
    "    for i, element in enumerate(y_true): \n",
    "        if y_true[i]==y_hat[i]==1:\n",
    "           trueP += 1\n",
    "        if y_hat[i]==1 and y_true[i]!=y_hat[i]:\n",
    "           falseP += 1\n",
    "        if y_hat[i]==0 and y_test[i]!=y_hat[i]:\n",
    "           falseN += 1\n",
    "    \n",
    "\n",
    "    if (trueP + falseP) != 0:\n",
    "        precision = trueP / (trueP + falseP)\n",
    "    else:\n",
    "        precision = 1\n",
    "    \n",
    "    if (trueP + falseN) != 0:\n",
    "        recall = trueP / (trueP + falseN)\n",
    "    else:\n",
    "        recall = 1\n",
    "\n",
    "    return precision, recall\n",
    "\n",
    "\n",
    "# Best SVM linear model computations\n",
    "y_score = linearBest.decision_function(X_test)\n",
    "\n",
    "precisions = []\n",
    "recalls = []\n",
    "\n",
    "prediction_tresholds = np.linspace(0,1,num=10)\n",
    "\n",
    "\n",
    "for i in prediction_tresholds:\n",
    "    \n",
    "    y_test_preds = []\n",
    "    \n",
    "    for ii in y_score:\n",
    "        if ii > i:\n",
    "            y_test_preds.append(1)\n",
    "        else:\n",
    "            y_test_preds.append(0)\n",
    "            \n",
    "    precision, recall = precisionRecallComp(y_test, y_test_preds)\n",
    "        \n",
    "    precisions.append(precision)\n",
    "    recalls.append(recall)"
   ]
  },
  {
   "cell_type": "code",
   "execution_count": 84,
   "metadata": {},
   "outputs": [],
   "source": [
    "# precision-recall curves for MLP\n",
    "y_score = clfBest.predict_proba(X_test)\n",
    "y_score = [x[1] for x in y_score]\n",
    "\n",
    "\n",
    "precisionsMLP = []\n",
    "recallsMLP = []\n",
    "\n",
    "prediction_tresholds = np.linspace(0,1,num=10)\n",
    "\n",
    "\n",
    "for i in prediction_tresholds:\n",
    "    \n",
    "    y_test_preds = []\n",
    "    \n",
    "    for ii in y_score:\n",
    "        if ii > i:\n",
    "            y_test_preds.append(1)\n",
    "        else:\n",
    "            y_test_preds.append(0)\n",
    "            \n",
    "    precision, recall = precisionRecallComp(y_test, y_test_preds)\n",
    "        \n",
    "    precisionsMLP.append(precision)\n",
    "    recallsMLP.append(recall)\n",
    "    "
   ]
  },
  {
   "cell_type": "code",
   "execution_count": 85,
   "metadata": {},
   "outputs": [
    {
     "data": {
      "image/png": "[encoded data removed]",
      "text/plain": [
       "<Figure size 648x864 with 2 Axes>"
      ]
     },
     "metadata": {
      "needs_background": "light"
     },
     "output_type": "display_data"
    }
   ],
   "source": [
    "plt.figure(figsize=(9, 12))\n",
    "plt.figure(1)\n",
    "plt.subplot(211)\n",
    "plt.plot(recalls, precisions)  \n",
    "plt.xlabel(\"recall\")\n",
    "plt.ylabel(\"precision\")\n",
    "plt.title(\"Precision-recall curve for SVM\")\n",
    "plt.subplot(212)\n",
    "plt.plot(recallsMLP, precisionsMLP)  \n",
    "plt.xlabel(\"recall\")\n",
    "plt.ylabel(\"precision\")\n",
    "plt.title(\"Precision-recall curve for best MLP model\")\n",
    "plt.show()"
   ]
  },
  {
   "cell_type": "code",
   "execution_count": 39,
   "metadata": {},
   "outputs": [
    {
     "data": {
      "text/plain": [
       "array([0.42632041, 0.57367959])"
      ]
     },
     "execution_count": 39,
     "metadata": {},
     "output_type": "execute_result"
    }
   ],
   "source": [
    "# Calculating area under the curve\n",
    "\n",
    "def precisionRecallAreaCalculator(recallsArray, precisionsArray):\n",
    "    \n",
    "    area = 0\n",
    "    \n",
    "    for i, val in enumerate(recallsArray):\n",
    "        if(i == 0):\n",
    "            binArea = recallsArray[i] * precisionsArray[i]\n",
    "        else: \n",
    "            binArea = (recallsArray[i] - recallsArray[i-1]) * precisionsArray[i]\n",
    "            \n",
    "        area += binArea\n",
    "    \n",
    "    return area\n",
    "\n",
    "\n",
    "SVM_area = precisionRecallAreaCalculator(recalls, precisions)\n",
    "MLP_area = precisionRecallAreaCalculator(recallsMLP, precisionsMLP)\n",
    "\n",
    "print(\"Area under cuve for best linear SVM model: \")\n",
    "print(SVM_area)\n",
    "print(\"// --- //\")\n",
    "\n",
    "print(\"Area under cuve for best MLP model: \")\n",
    "print(MLP_area)\n",
    "print(\"// --- //\")"
   ]
  },
  {
   "cell_type": "code",
   "execution_count": 46,
   "metadata": {},
   "outputs": [
    {
     "data": {
      "text/plain": [
       "array([0, 1], dtype=int64)"
      ]
     },
     "execution_count": 46,
     "metadata": {},
     "output_type": "execute_result"
    }
   ],
   "source": []
  },
  {
   "cell_type": "code",
   "execution_count": null,
   "metadata": {},
   "outputs": [],
   "source": []
  }
 ],
 "metadata": {
  "kernelspec": {
   "display_name": "Python 3",
   "language": "python",
   "name": "python3"
  },
  "language_info": {
   "codemirror_mode": {
    "name": "ipython",
    "version": 3
   },
   "file_extension": ".py",
   "mimetype": "text/x-python",
   "name": "python",
   "nbconvert_exporter": "python",
   "pygments_lexer": "ipython3",
   "version": "3.8.3"
  }
 },
 "nbformat": 4,
 "nbformat_minor": 4
}
