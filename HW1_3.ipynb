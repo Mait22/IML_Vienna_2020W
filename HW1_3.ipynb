{
 "cells": [
  {
   "cell_type": "code",
   "execution_count": 6,
   "metadata": {},
   "outputs": [],
   "source": [
    "## Loading packages\n",
    "import numpy as np\n",
    "import matplotlib.pyplot as plt\n",
    "import sklearn as sklearn\n",
    "\n",
    "from sklearn import linear_model\n",
    "from sklearn import preprocessing\n",
    "from sklearn import datasets\n",
    "from sklearn import metrics\n",
    "from sklearn import model_selection\n",
    "from sklearn.utils import shuffle\n",
    "from sklearn.preprocessing import MinMaxScaler"
   ]
  },
  {
   "cell_type": "code",
   "execution_count": 7,
   "metadata": {},
   "outputs": [
    {
     "name": "stdout",
     "output_type": "stream",
     "text": [
      "['MedInc', 'HouseAge', 'AveRooms', 'AveBedrms', 'Population', 'AveOccup', 'Latitude', 'Longitude']\n"
     ]
    },
    {
     "data": {
      "text/plain": [
       "'\\n# Test \\nprint(x_train.shape)\\nprint(x_test.shape)\\nprint(y_train.shape)\\nprint(y_test.shape)\\n'"
      ]
     },
     "execution_count": 7,
     "metadata": {},
     "output_type": "execute_result"
    }
   ],
   "source": [
    "## Subtask 1:  Data Preparation\n",
    "\n",
    "np.random.seed(2)\n",
    "\n",
    "# Loading data\n",
    "dataRaw = sklearn.datasets.fetch_california_housing()\n",
    "\n",
    "X = dataRaw['data']\n",
    "Y = dataRaw['target']\n",
    "\n",
    "# Getting feature names of the data\n",
    "featureNames = dataRaw['feature_names']\n",
    "print(featureNames)\n",
    "\n",
    "# Shuffling array \n",
    "X, Y = shuffle(X, Y, random_state=2)\n",
    "\n",
    "# Scaling data\n",
    "scaler = MinMaxScaler()\n",
    "X = scaler.fit_transform(X)\n",
    "\n",
    "# Splitting data to training and test set\n",
    "X_train, X_test, y_train, y_test = model_selection.train_test_split(X, Y, test_size = 0.7)\n",
    "\n",
    "\n",
    "\"\"\"\n",
    "# Test \n",
    "print(x_train.shape)\n",
    "print(x_test.shape)\n",
    "print(y_train.shape)\n",
    "print(y_test.shape)\n",
    "\"\"\""
   ]
  },
  {
   "cell_type": "code",
   "execution_count": 8,
   "metadata": {},
   "outputs": [
    {
     "name": "stdout",
     "output_type": "stream",
     "text": [
      "MSE on training data:  0.5716339342735532\n",
      "MSE on test data:  3.3876456938849655\n"
     ]
    }
   ],
   "source": [
    "#Fit a least squares linear regression model to the training data.  \n",
    "#Compute the MSE on the training andtest data and report it.  \n",
    "\n",
    "lr = linear_model.LinearRegression(fit_intercept = False)\n",
    "lr.fit(X_train, y_train)\n",
    "\n",
    "y_hat_train = lr.predict(X_train)\n",
    "y_hat_test = lr.predict(X_test)\n",
    "\n",
    "trainMSE = metrics.mean_squared_error(y_train, y_hat_train, squared=True)\n",
    "testMSE = metrics.mean_squared_error(y_test, y_hat_test, squared=True)\n",
    "\n",
    "print('MSE on training data: ', trainMSE)\n",
    "print('MSE on test data: ', testMSE)\n"
   ]
  },
  {
   "cell_type": "code",
   "execution_count": 12,
   "metadata": {},
   "outputs": [
    {
     "name": "stdout",
     "output_type": "stream",
     "text": [
      "MSE on training data with 2nd degree polynomial features :  0.3861065120817036\n",
      "MSE on training data with 2nd degree polynomial features :  7842.091017530263\n"
     ]
    }
   ],
   "source": [
    "#Compute polynomial features of degree 2 of the data.  \n",
    "#Again, compute the MSEon the training and test data and report it.  What do you observe?\n",
    "\n",
    "# Polynomial features\n",
    "polyMaker = preprocessing.PolynomialFeatures(degree = 2, include_bias= False)\n",
    "polyMaker.fit(X_train)\n",
    "X_train_poly = polyMaker.transform(X_train)\n",
    "X_test_poly = polyMaker.transform(X_test)\n",
    "\n",
    "lrPoly = linear_model.LinearRegression(fit_intercept = False)\n",
    "lrPoly.fit(X_train_poly, y_train)\n",
    "\n",
    "y_hat_trainPoly = lrPoly.predict(X_train_poly)\n",
    "y_hat_testPoly = lrPoly.predict(X_test_poly)\n",
    "\n",
    "trainMSE_Poly = metrics.mean_squared_error(y_train, y_hat_trainPoly, squared=True)\n",
    "testMSE_Poly = metrics.mean_squared_error(y_test, y_hat_testPoly, squared=True)\n",
    "\n",
    "print('MSE on training data with 2nd degree polynomial features : ', trainMSE_Poly)\n",
    "print('MSE on training data with 2nd degree polynomial features : ', testMSE_Poly)\n"
   ]
  },
  {
   "cell_type": "code",
   "execution_count": 18,
   "metadata": {},
   "outputs": [
    {
     "name": "stdout",
     "output_type": "stream",
     "text": [
      "CV assessed MSE on training data with without polynomial features is:  0.5839969625888457\n",
      "CV assessed MSE on training data with degree  2  polynomial features is:  0.8808765649243016\n"
     ]
    }
   ],
   "source": [
    "# Subtask 2:  Implement Cross-validation\n",
    "def dataSplitter(X, y, k): \n",
    "    \n",
    "    # Data preparation\n",
    "    wData = np.c_[ X, y ]   \n",
    "    wData = shuffle(wData, random_state=11) # for randomness in fold assignment        \n",
    "    \n",
    "    # Helpers\n",
    "    MSEs = []\n",
    "    nRowsFold = int((wData.shape[0]) / k)\n",
    "    foldIndexies = []\n",
    "    \n",
    "    # Data splitting\n",
    "\n",
    "    for i in range(k):\n",
    "        fold = {'test': \"\", \n",
    "                'train': \"\"}\n",
    "        \n",
    "        if  i != (k-1):\n",
    "            \n",
    "            startIdxTest = (i) * nRowsFold\n",
    "            endIdxTrain = (i+1) * nRowsFold\n",
    "            \n",
    "        if  i == (k-1):\n",
    "            startIdxTest = (i) * nRowsFold\n",
    "            endIdxTrain = wData.shape[0]\n",
    "            \n",
    "        # print((startIdxTest),(endIdxTrain))    \n",
    "        testRows = list(range((startIdxTest),(endIdxTrain))) \n",
    "        trainRows = filter(lambda r: r not in testRows, list(range(0,wData.shape[0])))\n",
    "        \n",
    "        fold['test'] = testRows\n",
    "        fold['train'] = list(trainRows)\n",
    "\n",
    "        \n",
    "        foldIndexies.append(fold)\n",
    "        \n",
    "                             \n",
    "    return wData, foldIndexies\n",
    "        \n",
    "\n",
    "dataCV, foldIndex = dataSplitter(X_train, y_train, 10)\n",
    "\n",
    "\n",
    "def polyFitterCv (data, foldIndexies, poly):\n",
    "    \n",
    "    MSEs = []\n",
    "    \n",
    "    y = data[:,-1]\n",
    "    X = data[:,0:(data.shape[1]-1)]\n",
    "    \n",
    "    #print(y.shape, X.shape, data.shape)\n",
    "    \n",
    "    if(poly != 0):\n",
    "        polyMaker = preprocessing.PolynomialFeatures(degree = poly, include_bias= False)\n",
    "        X = polyMaker.fit_transform(X)\n",
    "        \n",
    "    #print(y.shape, X.shape, data.shape)\n",
    "    \n",
    "    \n",
    "    for i in range(len(foldIndexies)):\n",
    "        \n",
    "        lrModel = linear_model.LinearRegression(fit_intercept = False)\n",
    "        lrModel.fit(X[foldIndexies[i]['train'],:], y[foldIndexies[i]['train']])\n",
    "        \n",
    "        yhat = lrModel.predict(X[foldIndexies[i]['test'],:])\n",
    "        MSEs.append( np.mean(( y[foldIndexies[i]['test']] - yhat)**2))\n",
    "    \n",
    "    return np.mean(MSEs)\n",
    "        \n",
    "    \n",
    "for i in [1, 2]:\n",
    "    if i == 1:\n",
    "        print('CV assessed MSE on training data with without polynomial features is: ', \n",
    "              polyFitterCv(dataCV, foldIndex, i))\n",
    "    else: \n",
    "        print('CV assessed MSE on training data with degree ',i,' polynomial features is: ', \n",
    "              polyFitterCv(dataCV, foldIndex, i))\n"
   ]
  },
  {
   "cell_type": "code",
   "execution_count": 22,
   "metadata": {},
   "outputs": [
    {
     "name": "stdout",
     "output_type": "stream",
     "text": [
      "MSE on training data with without polynomial features is:  0.5716339342735532\n",
      "MSE on training data with degree  2  polynomial features is:  0.3861065120817036\n",
      "MSE on training data with degree  3  polynomial features is:  0.3141866146327006\n",
      "MSE on training data with degree  4  polynomial features is:  0.24915199294842888\n",
      "MSE on training data with degree  5  polynomial features is:  0.18394061991604793\n"
     ]
    }
   ],
   "source": [
    "# Select the best degree with respect to the MSE on the training data.\n",
    "trainMSEs = []\n",
    "\n",
    "for i in range(1,6):\n",
    "    \n",
    "    polyMaker = preprocessing.PolynomialFeatures(degree = i, include_bias= False)\n",
    "    plyDataTrain = polyMaker.fit_transform(X_train)\n",
    "    \n",
    "    lrPoly = linear_model.LinearRegression(fit_intercept = False)\n",
    "    lrPoly.fit(plyDataTrain, y_train)\n",
    "    y_hat = lrPoly.predict(plyDataTrain)\n",
    "\n",
    "    trainMSEs.append( metrics.mean_squared_error(y_train, y_hat, squared=True) )\n",
    "    \n",
    "    if i == 1:\n",
    "        print('MSE on training data with without polynomial features is: ', \n",
    "              trainMSEs[-1])\n",
    "    else: \n",
    "        print('MSE on training data with degree ',i,' polynomial features is: ', \n",
    "               trainMSEs[-1])\n",
    "\n",
    "\n",
    "\n",
    "\n"
   ]
  },
  {
   "cell_type": "code",
   "execution_count": 24,
   "metadata": {},
   "outputs": [
    {
     "name": "stdout",
     "output_type": "stream",
     "text": [
      "MSE on test data of 50/50 split initial training data with without polynomial features is:  0.5826600700281771\n",
      "MSE on test data of 50/50 split initial training data with degree  2  polynomial features is:  0.9117313306909769\n",
      "MSE on test data of 50/50 split initial training data with degree  3  polynomial features is:  103.27103976849614\n",
      "MSE on test data of 50/50 split initial training data with degree  4  polynomial features is:  94209.80703615106\n",
      "MSE on test data of 50/50 split initial training data with degree  5  polynomial features is:  975246795.3283497\n"
     ]
    }
   ],
   "source": [
    "# Split the training data into new training data \n",
    "# (50% of the data, chosen randomly) and \n",
    "# validationdata (the remaining 50% of the data).  \n",
    "# Train linear regression models on the new (smaller) trainingset and pick the best degree with \n",
    "# respect to the MSE on the validation data.\n",
    "\n",
    "train50MSEs = []\n",
    "\n",
    "\n",
    "X_train_II, X_test_II, y_train_II, y_test_II = model_selection.train_test_split(X_train, y_train, test_size = 0.5)\n",
    "\n",
    "\n",
    "for i in range(1,6):\n",
    "    \n",
    "    polyMaker = preprocessing.PolynomialFeatures(degree = i, include_bias= False)\n",
    "    polyMaker.fit(X_train_II)\n",
    "    plyDataTrain = polyMaker.transform(X_train_II)\n",
    "    plyDataTest = polyMaker.transform(X_test_II)\n",
    "    \n",
    "    lrPoly = linear_model.LinearRegression(fit_intercept = False)\n",
    "    lrPoly.fit(plyDataTrain, y_train_II)\n",
    "    \n",
    "    y_hat_II = lrPoly.predict(plyDataTest)\n",
    "\n",
    "    train50MSEs.append( metrics.mean_squared_error(y_test_II, y_hat_II, squared=True) )\n",
    "    \n",
    "    if i == 1:\n",
    "        print('MSE on test data of 50/50 split initial training data with without polynomial features is: ', \n",
    "              train50MSEs[-1])\n",
    "    else: \n",
    "        print('MSE on test data of 50/50 split initial training data with degree ',i,' polynomial features is: ', \n",
    "               train50MSEs[-1])\n",
    "\n",
    "    \n",
    "    \n",
    "\n",
    "\n",
    "\n"
   ]
  },
  {
   "cell_type": "code",
   "execution_count": 29,
   "metadata": {},
   "outputs": [
    {
     "name": "stdout",
     "output_type": "stream",
     "text": [
      "CV assessed MSE on initial training data with without polynomial features is:  0.5839969625888457\n",
      "CV assessed MSE on initial training data with degree  2  polynomial features is:  0.8808765649243016\n",
      "CV assessed MSE on initial training data with degree  3  polynomial features is:  96.6057760552713\n",
      "CV assessed MSE on initial training data with degree  4  polynomial features is:  10068.172970646272\n",
      "CV assessed MSE on initial training data with degree  5  polynomial features is:  5726361.798727835\n"
     ]
    }
   ],
   "source": [
    "# Task 2-3\n",
    "\n",
    "dataCV, foldIndex = dataSplitter(X_train, y_train, 10)\n",
    "\n",
    "CV_train_MSEs = []\n",
    "\n",
    "for i in [1, 2, 3, 4, 5]:\n",
    "    CV_train_MSEs.append(polyFitterCv(dataCV, foldIndex, i)) \n",
    "    if i == 1:\n",
    "        print('CV assessed MSE on initial training data with without polynomial features is: ', \n",
    "              CV_train_MSEs[-1])\n",
    "    else: \n",
    "        print('CV assessed MSE on initial training data with degree ',i,' polynomial features is: ', \n",
    "              CV_train_MSEs[-1])"
   ]
  },
  {
   "cell_type": "code",
   "execution_count": 27,
   "metadata": {},
   "outputs": [
    {
     "name": "stdout",
     "output_type": "stream",
     "text": [
      "CV assessed MSE on new training data with without polynomial features is:  0.5873764194435861\n",
      "CV assessed MSE on new training data with degree  2  polynomial features is:  0.599362893138671\n",
      "CV assessed MSE on new training data with degree  3  polynomial features is:  11.148826965502499\n",
      "CV assessed MSE on new training data with degree  4  polynomial features is:  25864.242489869335\n",
      "CV assessed MSE on new training data with degree  5  polynomial features is:  367395.8990616558\n"
     ]
    }
   ],
   "source": [
    "dataCV_II, foldIndex_II = dataSplitter(X_train_II, y_train_II, 10)\n",
    "\n",
    "CV_train_II_MSEs = []\n",
    "\n",
    "for i in [1, 2, 3, 4, 5]:\n",
    "    CV_train_II_MSEs.append(polyFitterCv(dataCV_II, foldIndex_II, i)) \n",
    "    if i == 1:\n",
    "        print('CV assessed MSE on new training data with without polynomial features is: ', \n",
    "              CV_train_II_MSEs[-1])\n",
    "    else: \n",
    "        print('CV assessed MSE on new training data with degree ',i,' polynomial features is: ', \n",
    "              CV_train_II_MSEs[-1])"
   ]
  },
  {
   "cell_type": "code",
   "execution_count": 32,
   "metadata": {},
   "outputs": [
    {
     "data": {
      "text/plain": [
       "<matplotlib.legend.Legend at 0x153efc28730>"
      ]
     },
     "execution_count": 32,
     "metadata": {},
     "output_type": "execute_result"
    },
    {
     "data": {
      "image/png": "[encoded data removed]",
      "text/plain": [
       "<Figure size 864x576 with 1 Axes>"
      ]
     },
     "metadata": {
      "needs_background": "light"
     },
     "output_type": "display_data"
    }
   ],
   "source": [
    "## Generating plot for task 2\n",
    "\n",
    "plt.figure(figsize=(12,8))\n",
    "plt.plot([1,2,3,4,5], trainMSEs, '*', c = 'b', label = 'MSEs on initial test set')\n",
    "plt.plot([1,2,3,4,5], train50MSEs, 'o', c = 'g', label = 'MSEs on new test set')\n",
    "plt.plot([1,2,3,4,5], CV_train_MSEs, '.', c = 'r', label = 'MSEs in cross validation initial test set')\n",
    "\n",
    "\n",
    "plt.xlabel('Polynomial degree')\n",
    "plt.ylabel('$MSE$')\n",
    "plt.xlim((0.5, 5.5))\n",
    "plt.yscale('log')\n",
    "plt.title('MSE and polynomial degree in Subtask 2')\n",
    "plt.legend()\n"
   ]
  },
  {
   "cell_type": "code",
   "execution_count": null,
   "metadata": {},
   "outputs": [],
   "source": []
  }
 ],
 "metadata": {
  "kernelspec": {
   "display_name": "Python 3",
   "language": "python",
   "name": "python3"
  },
  "language_info": {
   "codemirror_mode": {
    "name": "ipython",
    "version": 3
   },
   "file_extension": ".py",
   "mimetype": "text/x-python",
   "name": "python",
   "nbconvert_exporter": "python",
   "pygments_lexer": "ipython3",
   "version": "3.8.3"
  }
 },
 "nbformat": 4,
 "nbformat_minor": 4
}
